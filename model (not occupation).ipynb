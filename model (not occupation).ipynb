{
 "cells": [
  {
   "cell_type": "markdown",
   "metadata": {},
   "source": [
    "> Tah Plen\n",
    "\n",
    "for each feature and each label...\n",
    "- model (simplify) the data to known distributions (gaussian, etc)\n",
    "- calculate probability that input data (single feature) fits to given distribution\n",
    "\n",
    "analyzing probability through multiple feature and label are expected to give prediction in method such as... (what should be done after this)\n",
    "- for each feature, calculate each probability where it belongs to 0 or 1 and multiply them for each class\n",
    "- assume the class only based on if probability exceed certain threshold for certain class\n",
    "- and more"
   ]
  },
  {
   "cell_type": "markdown",
   "metadata": {},
   "source": [
    "so for this code,\n",
    "\n",
    "when making a model...\n",
    "\n",
    "input requires two lists as below\n",
    "\n",
    "    [list of values in single feature with class 0], [\" with class 1] (, might have more inputs to define model like defining (assuming) distribution)\n",
    "\n",
    "and output will be a \n",
    "    \n",
    "    list/dictionary that summerizes the distribution\n",
    "\n",
    "(it will feed directly to below without going anywhere, so i'll take this on my own)\n",
    "\n",
    "when making a prediction...\n",
    "\n",
    "input includes\n",
    "    \n",
    "    data to predict, a summarized model\n",
    "\n",
    "output will be a list with two elements\n",
    "\n",
    "    [probability of data included in class 0, \" class 1]"
   ]
  },
  {
   "cell_type": "markdown",
   "metadata": {},
   "source": [
    "note about bayes\n",
    "\n",
    "P( has specific lable | has specific value ) = P( has specific value | has specific label ) * P( has specific label ) / P( has specific value )\n",
    "\n",
    "- interest: P( label | value )\n",
    "\n",
    "\n",
    "- P( value | label ): from modeling the data distribution with specific label\n",
    "- P( label ): from ratio\n",
    "- P( value ): from modeling the whole data distribution"
   ]
  },
  {
   "cell_type": "code",
   "execution_count": 1,
   "metadata": {},
   "outputs": [],
   "source": [
    "#input my code here"
   ]
  }
 ],
 "metadata": {
  "kernelspec": {
   "display_name": "Python 3",
   "language": "python",
   "name": "python3"
  },
  "language_info": {
   "codemirror_mode": {
    "name": "ipython",
    "version": 3
   },
   "file_extension": ".py",
   "mimetype": "text/x-python",
   "name": "python",
   "nbconvert_exporter": "python",
   "pygments_lexer": "ipython3",
   "version": "3.12.0"
  }
 },
 "nbformat": 4,
 "nbformat_minor": 2
}
